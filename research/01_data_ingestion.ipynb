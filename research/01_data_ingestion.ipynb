{
 "cells": [
  {
   "cell_type": "code",
   "execution_count": 1,
   "metadata": {},
   "outputs": [],
   "source": [
    "import os"
   ]
  },
  {
   "cell_type": "code",
   "execution_count": 2,
   "metadata": {},
   "outputs": [
    {
     "data": {
      "text/plain": [
       "'d:\\\\Projects\\\\Kidney_Disease_Classification\\\\research'"
      ]
     },
     "execution_count": 2,
     "metadata": {},
     "output_type": "execute_result"
    }
   ],
   "source": [
    "%pwd"
   ]
  },
  {
   "cell_type": "code",
   "execution_count": 3,
   "metadata": {},
   "outputs": [],
   "source": [
    "os.chdir(\"../\")"
   ]
  },
  {
   "cell_type": "code",
   "execution_count": 4,
   "metadata": {},
   "outputs": [
    {
     "data": {
      "text/plain": [
       "'d:\\\\Projects\\\\Kidney_Disease_Classification'"
      ]
     },
     "execution_count": 4,
     "metadata": {},
     "output_type": "execute_result"
    }
   ],
   "source": [
    "%pwd"
   ]
  },
  {
   "cell_type": "code",
   "execution_count": 5,
   "metadata": {},
   "outputs": [],
   "source": [
    "from dataclasses import dataclass\n",
    "from pathlib import Path\n",
    "\n",
    "@dataclass(frozen=True)\n",
    "class DataIngestionConfig:\n",
    "    root_dir: Path\n",
    "    source_url: str\n",
    "    local_data_file: Path\n",
    "    unzip_data: Path"
   ]
  },
  {
   "cell_type": "code",
   "execution_count": 6,
   "metadata": {},
   "outputs": [],
   "source": [
    "from src.Kidney_Disease_Classifier.constants import *\n",
    "from src.Kidney_Disease_Classifier.utils.common import read_yaml, create_directories"
   ]
  },
  {
   "cell_type": "code",
   "execution_count": 7,
   "metadata": {},
   "outputs": [],
   "source": [
    "class ConfigurationManager:\n",
    "    def __init__(self,\n",
    "                 config_filepath = CONFIG_FILE_PATH,\n",
    "                 params_filepath = PARAMS_FILE_PATH):\n",
    "        \n",
    "        self.config = read_yaml(config_filepath)\n",
    "        self.params = read_yaml(params_filepath)\n",
    "\n",
    "        create_directories([self.config.artifacts_root])\n",
    "\n",
    "\n",
    "    def get_data_ingestion_config(self) -> DataIngestionConfig:\n",
    "        config = self.config.data_ingestion\n",
    "\n",
    "        create_directories([config.root_dir])\n",
    "\n",
    "        data_ingestion_config = DataIngestionConfig(\n",
    "            root_dir=config.root_dir,\n",
    "            source_url= config.source_url,\n",
    "            local_data_file= config.local_data_file,\n",
    "            unzip_data=config.unzip_data\n",
    "        )\n",
    "\n",
    "        return data_ingestion_config\n"
   ]
  },
  {
   "cell_type": "code",
   "execution_count": 9,
   "metadata": {},
   "outputs": [],
   "source": [
    "import os\n",
    "import gdown\n",
    "import zipfile\n",
    "from src.Kidney_Disease_Classifier import logger\n",
    "from src.Kidney_Disease_Classifier.utils.common import get_size\n"
   ]
  },
  {
   "cell_type": "code",
   "execution_count": 10,
   "metadata": {},
   "outputs": [],
   "source": [
    "class DataIngestion:\n",
    "    def __init__(self,config:DataIngestionConfig):\n",
    "        self.config = config\n",
    "\n",
    "    \n",
    "    def donwload_data(self):\n",
    "        \"\"\"Fetch data from database\"\"\"\n",
    "\n",
    "        try:\n",
    "            dataset_url = self.config.source_url\n",
    "            zipfile_dir = self.config.local_data_file\n",
    "\n",
    "            os.makedirs(\"artifacts/data_ingestion\",exist_ok=True)\n",
    "            logger.info(f\"Downloading data from {dataset_url}\")\n",
    "\n",
    "            file_url = dataset_url.split(\"/\")[-2]\n",
    "            prefix = \"https://drive.google.com/uc?/export=download&id=\"\n",
    "\n",
    "            gdown.download(prefix+file_url,zipfile_dir)\n",
    "\n",
    "            logger.info(f\"Downloaded data from {dataset_url}\")\n",
    "\n",
    "        except Exception as e:\n",
    "            raise e\n",
    "        \n",
    "    def unzip_file(self):\n",
    "        \"\"\"unzip data after downloading \"\"\"\n",
    "\n",
    "        unzip_data_filepath = self.config.unzip_data\n",
    "        os.makedirs(unzip_data_filepath,exist_ok=True)\n",
    "\n",
    "        with zipfile.ZipFile(self.config.local_data_file, 'r') as zip_ref:\n",
    "            zip_ref.extractall(unzip_data_filepath)"
   ]
  },
  {
   "cell_type": "code",
   "execution_count": 12,
   "metadata": {},
   "outputs": [
    {
     "name": "stdout",
     "output_type": "stream",
     "text": [
      "[2023-11-10 22:05:38,078 - INFO - common - Reading data is completed form config\\config.yaml]\n",
      "[2023-11-10 22:05:38,087 - INFO - common - Reading data is completed form params.yaml]\n",
      "[2023-11-10 22:05:38,089 - INFO - common - Directory is created for artifacts]\n",
      "[2023-11-10 22:05:38,091 - INFO - common - Directory is created for artifacts/data_ingestion]\n",
      "[2023-11-10 22:05:38,093 - INFO - 514323005 - Downloading data from https://drive.google.com/file/d/1n1WYibOlWcTc-coQ8mPcHipvxWMfir0j/view?usp=sharing]\n"
     ]
    },
    {
     "name": "stderr",
     "output_type": "stream",
     "text": [
      "Downloading...\n",
      "From (uriginal): https://drive.google.com/uc?/export=download&id=1n1WYibOlWcTc-coQ8mPcHipvxWMfir0j\n",
      "From (redirected): https://drive.google.com/uc?/export=download&id=1n1WYibOlWcTc-coQ8mPcHipvxWMfir0j&confirm=t&uuid=2f79fee8-8195-49f1-bc2f-e7d1455e08e4\n",
      "To: d:\\Projects\\Kidney_Disease_Classification\\artifacts\\data_ingestion\\data.zip\n",
      "100%|██████████| 57.7M/57.7M [00:05<00:00, 9.67MB/s]"
     ]
    },
    {
     "name": "stdout",
     "output_type": "stream",
     "text": [
      "[2023-11-10 22:05:45,460 - INFO - 514323005 - Downloaded data from https://drive.google.com/file/d/1n1WYibOlWcTc-coQ8mPcHipvxWMfir0j/view?usp=sharing]\n"
     ]
    },
    {
     "name": "stderr",
     "output_type": "stream",
     "text": [
      "\n"
     ]
    }
   ],
   "source": [
    "try:\n",
    "    config = ConfigurationManager()\n",
    "    data_ingestion_config = config.get_data_ingestion_config()\n",
    "    data_ingestion = DataIngestion(config=data_ingestion_config)\n",
    "    data_ingestion.donwload_data()\n",
    "    data_ingestion.unzip_file()\n",
    "except Exception as e:\n",
    "    raise e"
   ]
  },
  {
   "cell_type": "code",
   "execution_count": null,
   "metadata": {},
   "outputs": [],
   "source": []
  }
 ],
 "metadata": {
  "kernelspec": {
   "display_name": "Python 3",
   "language": "python",
   "name": "python3"
  },
  "language_info": {
   "codemirror_mode": {
    "name": "ipython",
    "version": 3
   },
   "file_extension": ".py",
   "mimetype": "text/x-python",
   "name": "python",
   "nbconvert_exporter": "python",
   "pygments_lexer": "ipython3",
   "version": "3.9.0"
  }
 },
 "nbformat": 4,
 "nbformat_minor": 2
}
